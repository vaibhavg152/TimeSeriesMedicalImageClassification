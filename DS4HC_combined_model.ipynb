{
  "nbformat": 4,
  "nbformat_minor": 0,
  "metadata": {
    "colab": {
      "provenance": []
    },
    "kernelspec": {
      "name": "python3",
      "display_name": "Python 3"
    },
    "language_info": {
      "name": "python"
    },
    "widgets": {
      "application/vnd.jupyter.widget-state+json": {
        "d0a9229f725d45ada4ea3bd3a6b20b60": {
          "model_module": "@jupyter-widgets/controls",
          "model_name": "HBoxModel",
          "model_module_version": "1.5.0",
          "state": {
            "_dom_classes": [],
            "_model_module": "@jupyter-widgets/controls",
            "_model_module_version": "1.5.0",
            "_model_name": "HBoxModel",
            "_view_count": null,
            "_view_module": "@jupyter-widgets/controls",
            "_view_module_version": "1.5.0",
            "_view_name": "HBoxView",
            "box_style": "",
            "children": [
              "IPY_MODEL_f2c8baa9bc08491888adef5016634e50",
              "IPY_MODEL_50f8b627182e4eba8edf035f69f8a635",
              "IPY_MODEL_0d0bdbe6d5d9476ca1bfbe81477ffb09"
            ],
            "layout": "IPY_MODEL_cf473a78db3c4f989b71210fe9a7a1eb"
          }
        },
        "f2c8baa9bc08491888adef5016634e50": {
          "model_module": "@jupyter-widgets/controls",
          "model_name": "HTMLModel",
          "model_module_version": "1.5.0",
          "state": {
            "_dom_classes": [],
            "_model_module": "@jupyter-widgets/controls",
            "_model_module_version": "1.5.0",
            "_model_name": "HTMLModel",
            "_view_count": null,
            "_view_module": "@jupyter-widgets/controls",
            "_view_module_version": "1.5.0",
            "_view_name": "HTMLView",
            "description": "",
            "description_tooltip": null,
            "layout": "IPY_MODEL_bd1791d750ee4a9790b6eef090e502eb",
            "placeholder": "​",
            "style": "IPY_MODEL_72103aafec764a288e123b263f346a7a",
            "value": " 45%"
          }
        },
        "50f8b627182e4eba8edf035f69f8a635": {
          "model_module": "@jupyter-widgets/controls",
          "model_name": "FloatProgressModel",
          "model_module_version": "1.5.0",
          "state": {
            "_dom_classes": [],
            "_model_module": "@jupyter-widgets/controls",
            "_model_module_version": "1.5.0",
            "_model_name": "FloatProgressModel",
            "_view_count": null,
            "_view_module": "@jupyter-widgets/controls",
            "_view_module_version": "1.5.0",
            "_view_name": "ProgressView",
            "bar_style": "",
            "description": "",
            "description_tooltip": null,
            "layout": "IPY_MODEL_ed057d1a0a6a4d32bff97ff8fcd13f42",
            "max": 20,
            "min": 0,
            "orientation": "horizontal",
            "style": "IPY_MODEL_924e3b29096b4b3da5074531551710db",
            "value": 9
          }
        },
        "0d0bdbe6d5d9476ca1bfbe81477ffb09": {
          "model_module": "@jupyter-widgets/controls",
          "model_name": "HTMLModel",
          "model_module_version": "1.5.0",
          "state": {
            "_dom_classes": [],
            "_model_module": "@jupyter-widgets/controls",
            "_model_module_version": "1.5.0",
            "_model_name": "HTMLModel",
            "_view_count": null,
            "_view_module": "@jupyter-widgets/controls",
            "_view_module_version": "1.5.0",
            "_view_name": "HTMLView",
            "description": "",
            "description_tooltip": null,
            "layout": "IPY_MODEL_f51ea1f2847c4531a0c27a90f82d9717",
            "placeholder": "​",
            "style": "IPY_MODEL_32b1f762a39742a08ea59820aa65761d",
            "value": " 9/20 [00:22&lt;00:27,  2.46s/it]"
          }
        },
        "cf473a78db3c4f989b71210fe9a7a1eb": {
          "model_module": "@jupyter-widgets/base",
          "model_name": "LayoutModel",
          "model_module_version": "1.2.0",
          "state": {
            "_model_module": "@jupyter-widgets/base",
            "_model_module_version": "1.2.0",
            "_model_name": "LayoutModel",
            "_view_count": null,
            "_view_module": "@jupyter-widgets/base",
            "_view_module_version": "1.2.0",
            "_view_name": "LayoutView",
            "align_content": null,
            "align_items": null,
            "align_self": null,
            "border": null,
            "bottom": null,
            "display": null,
            "flex": null,
            "flex_flow": null,
            "grid_area": null,
            "grid_auto_columns": null,
            "grid_auto_flow": null,
            "grid_auto_rows": null,
            "grid_column": null,
            "grid_gap": null,
            "grid_row": null,
            "grid_template_areas": null,
            "grid_template_columns": null,
            "grid_template_rows": null,
            "height": null,
            "justify_content": null,
            "justify_items": null,
            "left": null,
            "margin": null,
            "max_height": null,
            "max_width": null,
            "min_height": null,
            "min_width": null,
            "object_fit": null,
            "object_position": null,
            "order": null,
            "overflow": null,
            "overflow_x": null,
            "overflow_y": null,
            "padding": null,
            "right": null,
            "top": null,
            "visibility": null,
            "width": null
          }
        },
        "bd1791d750ee4a9790b6eef090e502eb": {
          "model_module": "@jupyter-widgets/base",
          "model_name": "LayoutModel",
          "model_module_version": "1.2.0",
          "state": {
            "_model_module": "@jupyter-widgets/base",
            "_model_module_version": "1.2.0",
            "_model_name": "LayoutModel",
            "_view_count": null,
            "_view_module": "@jupyter-widgets/base",
            "_view_module_version": "1.2.0",
            "_view_name": "LayoutView",
            "align_content": null,
            "align_items": null,
            "align_self": null,
            "border": null,
            "bottom": null,
            "display": null,
            "flex": null,
            "flex_flow": null,
            "grid_area": null,
            "grid_auto_columns": null,
            "grid_auto_flow": null,
            "grid_auto_rows": null,
            "grid_column": null,
            "grid_gap": null,
            "grid_row": null,
            "grid_template_areas": null,
            "grid_template_columns": null,
            "grid_template_rows": null,
            "height": null,
            "justify_content": null,
            "justify_items": null,
            "left": null,
            "margin": null,
            "max_height": null,
            "max_width": null,
            "min_height": null,
            "min_width": null,
            "object_fit": null,
            "object_position": null,
            "order": null,
            "overflow": null,
            "overflow_x": null,
            "overflow_y": null,
            "padding": null,
            "right": null,
            "top": null,
            "visibility": null,
            "width": null
          }
        },
        "72103aafec764a288e123b263f346a7a": {
          "model_module": "@jupyter-widgets/controls",
          "model_name": "DescriptionStyleModel",
          "model_module_version": "1.5.0",
          "state": {
            "_model_module": "@jupyter-widgets/controls",
            "_model_module_version": "1.5.0",
            "_model_name": "DescriptionStyleModel",
            "_view_count": null,
            "_view_module": "@jupyter-widgets/base",
            "_view_module_version": "1.2.0",
            "_view_name": "StyleView",
            "description_width": ""
          }
        },
        "ed057d1a0a6a4d32bff97ff8fcd13f42": {
          "model_module": "@jupyter-widgets/base",
          "model_name": "LayoutModel",
          "model_module_version": "1.2.0",
          "state": {
            "_model_module": "@jupyter-widgets/base",
            "_model_module_version": "1.2.0",
            "_model_name": "LayoutModel",
            "_view_count": null,
            "_view_module": "@jupyter-widgets/base",
            "_view_module_version": "1.2.0",
            "_view_name": "LayoutView",
            "align_content": null,
            "align_items": null,
            "align_self": null,
            "border": null,
            "bottom": null,
            "display": null,
            "flex": null,
            "flex_flow": null,
            "grid_area": null,
            "grid_auto_columns": null,
            "grid_auto_flow": null,
            "grid_auto_rows": null,
            "grid_column": null,
            "grid_gap": null,
            "grid_row": null,
            "grid_template_areas": null,
            "grid_template_columns": null,
            "grid_template_rows": null,
            "height": null,
            "justify_content": null,
            "justify_items": null,
            "left": null,
            "margin": null,
            "max_height": null,
            "max_width": null,
            "min_height": null,
            "min_width": null,
            "object_fit": null,
            "object_position": null,
            "order": null,
            "overflow": null,
            "overflow_x": null,
            "overflow_y": null,
            "padding": null,
            "right": null,
            "top": null,
            "visibility": null,
            "width": null
          }
        },
        "924e3b29096b4b3da5074531551710db": {
          "model_module": "@jupyter-widgets/controls",
          "model_name": "ProgressStyleModel",
          "model_module_version": "1.5.0",
          "state": {
            "_model_module": "@jupyter-widgets/controls",
            "_model_module_version": "1.5.0",
            "_model_name": "ProgressStyleModel",
            "_view_count": null,
            "_view_module": "@jupyter-widgets/base",
            "_view_module_version": "1.2.0",
            "_view_name": "StyleView",
            "bar_color": null,
            "description_width": ""
          }
        },
        "f51ea1f2847c4531a0c27a90f82d9717": {
          "model_module": "@jupyter-widgets/base",
          "model_name": "LayoutModel",
          "model_module_version": "1.2.0",
          "state": {
            "_model_module": "@jupyter-widgets/base",
            "_model_module_version": "1.2.0",
            "_model_name": "LayoutModel",
            "_view_count": null,
            "_view_module": "@jupyter-widgets/base",
            "_view_module_version": "1.2.0",
            "_view_name": "LayoutView",
            "align_content": null,
            "align_items": null,
            "align_self": null,
            "border": null,
            "bottom": null,
            "display": null,
            "flex": null,
            "flex_flow": null,
            "grid_area": null,
            "grid_auto_columns": null,
            "grid_auto_flow": null,
            "grid_auto_rows": null,
            "grid_column": null,
            "grid_gap": null,
            "grid_row": null,
            "grid_template_areas": null,
            "grid_template_columns": null,
            "grid_template_rows": null,
            "height": null,
            "justify_content": null,
            "justify_items": null,
            "left": null,
            "margin": null,
            "max_height": null,
            "max_width": null,
            "min_height": null,
            "min_width": null,
            "object_fit": null,
            "object_position": null,
            "order": null,
            "overflow": null,
            "overflow_x": null,
            "overflow_y": null,
            "padding": null,
            "right": null,
            "top": null,
            "visibility": null,
            "width": null
          }
        },
        "32b1f762a39742a08ea59820aa65761d": {
          "model_module": "@jupyter-widgets/controls",
          "model_name": "DescriptionStyleModel",
          "model_module_version": "1.5.0",
          "state": {
            "_model_module": "@jupyter-widgets/controls",
            "_model_module_version": "1.5.0",
            "_model_name": "DescriptionStyleModel",
            "_view_count": null,
            "_view_module": "@jupyter-widgets/base",
            "_view_module_version": "1.2.0",
            "_view_name": "StyleView",
            "description_width": ""
          }
        }
      }
    }
  },
  "cells": [
    {
      "cell_type": "code",
      "source": [
        "# !pip install transformers\n",
        "\n",
        "# from google.colab import drive\n",
        "# drive.mount('/content/gdrive')\n",
        "\n",
        "!pip install torchxrayvision\n",
        "# !tar -xzf /content/gdrive/MyDrive/Colab\\ Notebooks/images.tar.gz "
      ],
      "metadata": {
        "id": "FQwKwjoJZMeO",
        "colab": {
          "base_uri": "https://localhost:8080/"
        },
        "outputId": "0064a757-d388-4a6e-c257-a22043596d0f"
      },
      "execution_count": 2,
      "outputs": [
        {
          "output_type": "stream",
          "name": "stdout",
          "text": [
            "Looking in indexes: https://pypi.org/simple, https://us-python.pkg.dev/colab-wheels/public/simple/\n",
            "Collecting torchxrayvision\n",
            "  Downloading torchxrayvision-1.1.0-py3-none-any.whl (29.0 MB)\n",
            "\u001b[2K     \u001b[90m━━━━━━━━━━━━━━━━━━━━━━━━━━━━━━━━━━━━━━━━\u001b[0m \u001b[32m29.0/29.0 MB\u001b[0m \u001b[31m33.1 MB/s\u001b[0m eta \u001b[36m0:00:00\u001b[0m\n",
            "\u001b[?25hRequirement already satisfied: torch>=1 in /usr/local/lib/python3.10/dist-packages (from torchxrayvision) (2.0.0+cu118)\n",
            "Requirement already satisfied: torchvision>=0.5 in /usr/local/lib/python3.10/dist-packages (from torchxrayvision) (0.15.1+cu118)\n",
            "Requirement already satisfied: scikit-image>=0.16 in /usr/local/lib/python3.10/dist-packages (from torchxrayvision) (0.19.3)\n",
            "Requirement already satisfied: tqdm>=4 in /usr/local/lib/python3.10/dist-packages (from torchxrayvision) (4.65.0)\n",
            "Requirement already satisfied: numpy>=1 in /usr/local/lib/python3.10/dist-packages (from torchxrayvision) (1.22.4)\n",
            "Requirement already satisfied: pandas>=1 in /usr/local/lib/python3.10/dist-packages (from torchxrayvision) (1.5.3)\n",
            "Requirement already satisfied: requests>=1 in /usr/local/lib/python3.10/dist-packages (from torchxrayvision) (2.27.1)\n",
            "Requirement already satisfied: pillow>=5.3.0 in /usr/local/lib/python3.10/dist-packages (from torchxrayvision) (8.4.0)\n",
            "Requirement already satisfied: imageio in /usr/local/lib/python3.10/dist-packages (from torchxrayvision) (2.25.1)\n",
            "Requirement already satisfied: python-dateutil>=2.8.1 in /usr/local/lib/python3.10/dist-packages (from pandas>=1->torchxrayvision) (2.8.2)\n",
            "Requirement already satisfied: pytz>=2020.1 in /usr/local/lib/python3.10/dist-packages (from pandas>=1->torchxrayvision) (2022.7.1)\n",
            "Requirement already satisfied: urllib3<1.27,>=1.21.1 in /usr/local/lib/python3.10/dist-packages (from requests>=1->torchxrayvision) (1.26.15)\n",
            "Requirement already satisfied: certifi>=2017.4.17 in /usr/local/lib/python3.10/dist-packages (from requests>=1->torchxrayvision) (2022.12.7)\n",
            "Requirement already satisfied: charset-normalizer~=2.0.0 in /usr/local/lib/python3.10/dist-packages (from requests>=1->torchxrayvision) (2.0.12)\n",
            "Requirement already satisfied: idna<4,>=2.5 in /usr/local/lib/python3.10/dist-packages (from requests>=1->torchxrayvision) (3.4)\n",
            "Requirement already satisfied: scipy>=1.4.1 in /usr/local/lib/python3.10/dist-packages (from scikit-image>=0.16->torchxrayvision) (1.10.1)\n",
            "Requirement already satisfied: networkx>=2.2 in /usr/local/lib/python3.10/dist-packages (from scikit-image>=0.16->torchxrayvision) (3.1)\n",
            "Requirement already satisfied: tifffile>=2019.7.26 in /usr/local/lib/python3.10/dist-packages (from scikit-image>=0.16->torchxrayvision) (2023.4.12)\n",
            "Requirement already satisfied: PyWavelets>=1.1.1 in /usr/local/lib/python3.10/dist-packages (from scikit-image>=0.16->torchxrayvision) (1.4.1)\n",
            "Requirement already satisfied: packaging>=20.0 in /usr/local/lib/python3.10/dist-packages (from scikit-image>=0.16->torchxrayvision) (23.1)\n",
            "Requirement already satisfied: filelock in /usr/local/lib/python3.10/dist-packages (from torch>=1->torchxrayvision) (3.12.0)\n",
            "Requirement already satisfied: typing-extensions in /usr/local/lib/python3.10/dist-packages (from torch>=1->torchxrayvision) (4.5.0)\n",
            "Requirement already satisfied: sympy in /usr/local/lib/python3.10/dist-packages (from torch>=1->torchxrayvision) (1.11.1)\n",
            "Requirement already satisfied: jinja2 in /usr/local/lib/python3.10/dist-packages (from torch>=1->torchxrayvision) (3.1.2)\n",
            "Requirement already satisfied: triton==2.0.0 in /usr/local/lib/python3.10/dist-packages (from torch>=1->torchxrayvision) (2.0.0)\n",
            "Requirement already satisfied: cmake in /usr/local/lib/python3.10/dist-packages (from triton==2.0.0->torch>=1->torchxrayvision) (3.25.2)\n",
            "Requirement already satisfied: lit in /usr/local/lib/python3.10/dist-packages (from triton==2.0.0->torch>=1->torchxrayvision) (16.0.3)\n",
            "Requirement already satisfied: six>=1.5 in /usr/local/lib/python3.10/dist-packages (from python-dateutil>=2.8.1->pandas>=1->torchxrayvision) (1.16.0)\n",
            "Requirement already satisfied: MarkupSafe>=2.0 in /usr/local/lib/python3.10/dist-packages (from jinja2->torch>=1->torchxrayvision) (2.1.2)\n",
            "Requirement already satisfied: mpmath>=0.19 in /usr/local/lib/python3.10/dist-packages (from sympy->torch>=1->torchxrayvision) (1.3.0)\n",
            "Installing collected packages: torchxrayvision\n",
            "Successfully installed torchxrayvision-1.1.0\n"
          ]
        }
      ]
    },
    {
      "cell_type": "code",
      "source": [
        "import skimage\n",
        "import torch\n",
        "import torch.nn.functional as F\n",
        "import torchvision\n",
        "import torchvision.transforms\n",
        "\n",
        "import torchxrayvision as xrv\n",
        "from tqdm.notebook import tqdm\n",
        "from glob import glob\n",
        "from time import time\n",
        "import numpy as np\n",
        "import json\n",
        "\n",
        "# from transformers import ViTImageProcessor, ViTModel\n",
        "from PIL import Image\n",
        "from tqdm.notebook import tqdm\n",
        "\n",
        "import pandas as pd"
      ],
      "metadata": {
        "id": "14hRwCltj9NK"
      },
      "execution_count": 3,
      "outputs": []
    },
    {
      "cell_type": "markdown",
      "source": [
        "Train the model"
      ],
      "metadata": {
        "id": "ih1QC_FSpR1F"
      }
    },
    {
      "cell_type": "code",
      "source": [
        "from torch.utils.data import Dataset\n",
        "from torchvision import datasets\n",
        "from torchvision.transforms import ToTensor\n",
        "\n",
        "class CXRT_Dataset_2(Dataset):\n",
        "  DISEASE_NAMES = ['edema', 'consolidation', 'pleural_effusion', 'pneumothorax', 'pneumonia']\n",
        "  def __init__(self, annotations_file, features_file):\n",
        "        self.df = pd.read_csv(annotations_file)\n",
        "        # self.df = self.df[~self.df[f'{disease_name}_progression'].isna()]\n",
        "        \n",
        "        self.image1 = [p.split('/')[-1] for p in self.df.previous_dicom_id.to_numpy()]\n",
        "        self.image2 = [p.split('/')[-1] for p in self.df.dicom_id.to_numpy()]\n",
        "        \n",
        "        for disease_name in self.DISEASE_NAMES:\n",
        "          self.df[f'{disease_name}_progression'].fillna(-1, inplace=True)\n",
        "          # print(self.df[f'{disease_name}_progression'].value_counts())\n",
        "          self.df[f'{disease_name}_progression'].replace({'worsening': 1, 'stable': 0, 'improving': 2}, inplace=True)\n",
        "          # print(self.df[f'{disease_name}_progression'].value_counts())\n",
        "                \n",
        "        with open(features_file) as f:\n",
        "          data = json.load(f)\n",
        "          self.image_names = [d.split('/')[-1] for d in data.keys()]\n",
        "          self.in_features = torch.Tensor(list(data.values()))\n",
        "\n",
        "  def __len__(self):\n",
        "        return self.df.shape[0]\n",
        "\n",
        "  def __getitem__(self, idx):\n",
        "        label = torch.LongTensor([self.df[f'{d}_progression'].iloc[idx] for d in self.DISEASE_NAMES])\n",
        "\n",
        "        image1 = self.in_features[self.image_names.index(self.image1[idx]+'.jpg')]\n",
        "        image2 = self.in_features[self.image_names.index(self.image2[idx]+'.jpg')]\n",
        "        return image1, image2, label"
      ],
      "metadata": {
        "id": "p1LzcZa4vtB-"
      },
      "execution_count": 4,
      "outputs": []
    },
    {
      "cell_type": "code",
      "source": [
        "from torch._C import Value\n",
        "import torch.nn as nn\n",
        "import torch.nn.functional as F\n",
        "import torch.optim as optim\n",
        "from sklearn.metrics import classification_report\n",
        "from sklearn.metrics import confusion_matrix\n",
        "\n",
        "torch.manual_seed(10)\n",
        "\n",
        "annotations_file = glob('/content/*image*.csv')[0]\n",
        "BATCH_SIZE = 8\n",
        "\n",
        "\n",
        "class Net2(nn.Module):\n",
        "    def __init__(self, in_features, hidden_features, num_classes):\n",
        "        super().__init__()\n",
        "        self.lin_cat = nn.Linear(in_features=2*in_features, out_features=hidden_features)\n",
        "        self.lin1 = nn.Linear(in_features=hidden_features, out_features=num_classes)\n",
        "        self.lin2 = nn.Linear(in_features=hidden_features, out_features=num_classes)\n",
        "        self.lin3 = nn.Linear(in_features=hidden_features, out_features=num_classes)\n",
        "        self.lin4 = nn.Linear(in_features=hidden_features, out_features=num_classes)\n",
        "        self.lin5 = nn.Linear(in_features=hidden_features, out_features=num_classes)\n",
        "        \n",
        "    def forward(self, x1, x2):\n",
        "        x = torch.cat( (x1, x2), dim=1)\n",
        "        x = F.relu(self.lin_cat(x))\n",
        "        x = torch.cat( (self.lin1(x), self.lin2(x),self.lin3(x), self.lin4(x),\n",
        "                          self.lin5(x)), )\n",
        "        return x\n",
        "\n",
        "\n",
        "class Model2(Net2):\n",
        "    BATCH_SIZE = 8\n",
        "    def __init__(self, annotations_file, feature_extractor, masking=True, hidden_features=2048):\n",
        "\n",
        "      dataset = CXRT_Dataset_2(annotations_file, f'features_{feature_extractor}.json')\n",
        "      self.in_features = dataset.in_features.shape[-1] \n",
        "      super().__init__(self.in_features, hidden_features, num_classes=3)\n",
        "\n",
        "      trainset, testset = torch.utils.data.random_split(dataset, [0.8, 0.2])\n",
        "      self.trainloader = torch.utils.data.DataLoader(trainset, batch_size=BATCH_SIZE,\n",
        "                                                shuffle=True, num_workers=2)\n",
        "      self.testloader = torch.utils.data.DataLoader(testset, batch_size=BATCH_SIZE,\n",
        "                                              shuffle=False, num_workers=2)\n",
        "      self.criterion = nn.CrossEntropyLoss()\n",
        "      self.optimizer = optim.SGD(self.parameters(), lr=0.001, momentum=0.9)\n",
        "      self.masking = masking\n",
        "\n",
        "    def train(self, num_epochs=50):\n",
        "      for epoch in tqdm(range(num_epochs)):  # loop over the dataset multiple times\n",
        "          # running_loss = 0.0\n",
        "          for i, data in enumerate(self.trainloader, 0):\n",
        "              image1, image2, labels = data\n",
        "              labels = labels.flatten()\n",
        "              mask = labels >= 0 \n",
        "              labels[~mask] = 0\n",
        "\n",
        "              # zero the parameter gradients\n",
        "              self.optimizer.zero_grad()\n",
        "\n",
        "              logits = self.forward(image1, image2)\n",
        "\n",
        "              if self.masking:\n",
        "                log_probs = F.log_softmax(logits)\n",
        "                losses_flat = -torch.gather(log_probs, dim=1, index=labels.unsqueeze(0)).squeeze() \n",
        "                losses_flat = losses_flat * mask.float()\n",
        "                loss = losses_flat.sum() / mask.float().sum()\n",
        "              else:\n",
        "                loss = self.criterion(logits, labels)\n",
        "\n",
        "              loss.backward()\n",
        "              self.optimizer.step()\n",
        "    \n",
        "    def test(self):\n",
        "      num_correct, total = 0, 0\n",
        "      all_preds, all_labels = [], []\n",
        "      for i, data in tqdm(enumerate(self.testloader, 0)):\n",
        "          image1, image2, labels = data\n",
        "          labels = labels.detach().flatten()\n",
        "          mask = labels >= 0 \n",
        "          labels[~mask] = 0\n",
        "\n",
        "          outputs = self.forward(image1, image2)\n",
        "          log_probs = F.log_softmax(outputs)\n",
        "          preds = np.argmax(outputs.detach().numpy(), axis=1)\n",
        "\n",
        "          num_correct += (mask*(preds==labels.numpy())).sum().item()\n",
        "          total += mask.sum().item()\n",
        "          all_preds += preds.tolist()\n",
        "          all_labels += labels.tolist()\n",
        "      print(num_correct, total, 100*num_correct/total)\n",
        "      print(classification_report(all_preds, all_labels))\n",
        "\n",
        "    def test_inv(self):\n",
        "      all_preds, all_labels, all_preds_inv = np.array([], dtype=np.int32), np.array([], dtype=np.int32), np.array([], dtype=np.int32)\n",
        "      for i, data in tqdm(enumerate(self.testloader, 0)):\n",
        "          image1, image2, labels = data\n",
        "          labels = labels.detach().flatten()\n",
        "          mask = labels >= 0\n",
        "          # print(labels.shape)\n",
        "\n",
        "          outputs = net(image1, image2)\n",
        "          preds = np.argmax(outputs.detach().numpy(), axis=1)\n",
        "          \n",
        "          outputs = net(image2, image1)\n",
        "          preds_inv = np.argmax(outputs.detach().numpy(), axis=1)\n",
        "\n",
        "          preds[~mask] = -1\n",
        "          preds_inv[~mask] = -1\n",
        "          \n",
        "          all_preds = np.concatenate([all_preds, preds])\n",
        "          all_preds_inv = np.concatenate([all_preds_inv, preds_inv])\n",
        "          \n",
        "      print(confusion_matrix(all_preds, all_preds_inv))\n",
        "\n"
      ],
      "metadata": {
        "id": "LRHUe3embExA"
      },
      "execution_count": 10,
      "outputs": []
    },
    {
      "cell_type": "code",
      "source": [
        "feature_extractor = \"densenet121-res224-chex\"\n",
        "net = Model2(annotations_file, feature_extractor, 2048)\n",
        "net.train(20)\n",
        "net.test()\n",
        "net.test_inv()"
      ],
      "metadata": {
        "colab": {
          "base_uri": "https://localhost:8080/",
          "height": 49,
          "referenced_widgets": [
            "d0a9229f725d45ada4ea3bd3a6b20b60",
            "f2c8baa9bc08491888adef5016634e50",
            "50f8b627182e4eba8edf035f69f8a635",
            "0d0bdbe6d5d9476ca1bfbe81477ffb09",
            "cf473a78db3c4f989b71210fe9a7a1eb",
            "bd1791d750ee4a9790b6eef090e502eb",
            "72103aafec764a288e123b263f346a7a",
            "ed057d1a0a6a4d32bff97ff8fcd13f42",
            "924e3b29096b4b3da5074531551710db",
            "f51ea1f2847c4531a0c27a90f82d9717",
            "32b1f762a39742a08ea59820aa65761d"
          ]
        },
        "id": "K7wlzgPozRhw",
        "outputId": "2392a5af-e7f8-4a2f-a080-29778c28c3ee"
      },
      "execution_count": null,
      "outputs": [
        {
          "output_type": "display_data",
          "data": {
            "text/plain": [
              "  0%|          | 0/20 [00:00<?, ?it/s]"
            ],
            "application/vnd.jupyter.widget-view+json": {
              "version_major": 2,
              "version_minor": 0,
              "model_id": "d0a9229f725d45ada4ea3bd3a6b20b60"
            }
          },
          "metadata": {}
        }
      ]
    },
    {
      "cell_type": "code",
      "source": [
        "net.train(10)\n",
        "net.test()\n",
        "net.test_inv()"
      ],
      "metadata": {
        "id": "28AylVnTB-i9"
      },
      "execution_count": null,
      "outputs": []
    },
    {
      "cell_type": "code",
      "source": [
        "net.train(10)\n",
        "net.test()\n",
        "net.test_inv()"
      ],
      "metadata": {
        "id": "GrOhufS3Gqoi"
      },
      "execution_count": null,
      "outputs": []
    },
    {
      "cell_type": "code",
      "source": [
        "net.train(10)\n",
        "net.test()\n",
        "net.test_inv()"
      ],
      "metadata": {
        "id": "JRaSyAacGsi8"
      },
      "execution_count": null,
      "outputs": []
    },
    {
      "cell_type": "code",
      "source": [
        "net.train(10)\n",
        "net.test()\n",
        "net.test_inv()"
      ],
      "metadata": {
        "id": "ecVXOQj2KGr9"
      },
      "execution_count": null,
      "outputs": []
    },
    {
      "cell_type": "code",
      "source": [],
      "metadata": {
        "colab": {
          "base_uri": "https://localhost:8080/"
        },
        "id": "wq9VL5QXMg8U",
        "outputId": "56c7e0da-671b-43cd-baf8-5699b553b335"
      },
      "execution_count": null,
      "outputs": [
        {
          "output_type": "stream",
          "name": "stdout",
          "text": [
            "              precision    recall  f1-score   support\n",
            "\n",
            "           0       0.49      0.88      0.62       490\n",
            "           1       0.53      0.12      0.20       499\n",
            "           2       0.11      0.09      0.10        56\n",
            "\n",
            "    accuracy                           0.47      1045\n",
            "   macro avg       0.37      0.36      0.31      1045\n",
            "weighted avg       0.49      0.47      0.39      1045\n",
            "\n"
          ]
        }
      ]
    },
    {
      "cell_type": "code",
      "source": [],
      "metadata": {
        "colab": {
          "base_uri": "https://localhost:8080/"
        },
        "id": "5Rh_8aBUMuGR",
        "outputId": "116474ec-7fb0-4f69-b28b-c7f244d82d09"
      },
      "execution_count": null,
      "outputs": [
        {
          "output_type": "stream",
          "name": "stdout",
          "text": [
            "[0 0 0 1 2]\n"
          ]
        }
      ]
    },
    {
      "cell_type": "code",
      "source": [],
      "metadata": {
        "id": "RvLavZPcMzl_"
      },
      "execution_count": null,
      "outputs": []
    }
  ]
}