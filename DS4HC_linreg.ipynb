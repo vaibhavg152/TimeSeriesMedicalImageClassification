{
  "nbformat": 4,
  "nbformat_minor": 0,
  "metadata": {
    "colab": {
      "provenance": []
    },
    "kernelspec": {
      "name": "python3",
      "display_name": "Python 3"
    },
    "language_info": {
      "name": "python"
    }
  },
  "cells": [
    {
      "cell_type": "code",
      "source": [
        "from google.colab import drive\n",
        "drive.mount('/content/gdrive')\n",
        "\n",
        "# !pip install transformers\n",
        "!pip install torchxrayvision\n",
        "!tar -xzf /content/gdrive/MyDrive/Colab\\ Notebooks/images.tar.gz "
      ],
      "metadata": {
        "id": "FQwKwjoJZMeO",
        "colab": {
          "base_uri": "https://localhost:8080/"
        },
        "outputId": "74e2446a-5d30-49f5-d643-9f764a00c7d6"
      },
      "execution_count": 2,
      "outputs": [
        {
          "output_type": "stream",
          "name": "stdout",
          "text": [
            "Looking in indexes: https://pypi.org/simple, https://us-python.pkg.dev/colab-wheels/public/simple/\n",
            "Collecting torchxrayvision\n",
            "  Downloading torchxrayvision-1.1.0-py3-none-any.whl (29.0 MB)\n",
            "\u001b[2K     \u001b[90m━━━━━━━━━━━━━━━━━━━━━━━━━━━━━━━━━━━━━━━━\u001b[0m \u001b[32m29.0/29.0 MB\u001b[0m \u001b[31m9.2 MB/s\u001b[0m eta \u001b[36m0:00:00\u001b[0m\n",
            "\u001b[?25hRequirement already satisfied: torch>=1 in /usr/local/lib/python3.10/dist-packages (from torchxrayvision) (2.0.0+cu118)\n",
            "Requirement already satisfied: torchvision>=0.5 in /usr/local/lib/python3.10/dist-packages (from torchxrayvision) (0.15.1+cu118)\n",
            "Requirement already satisfied: scikit-image>=0.16 in /usr/local/lib/python3.10/dist-packages (from torchxrayvision) (0.19.3)\n",
            "Requirement already satisfied: tqdm>=4 in /usr/local/lib/python3.10/dist-packages (from torchxrayvision) (4.65.0)\n",
            "Requirement already satisfied: numpy>=1 in /usr/local/lib/python3.10/dist-packages (from torchxrayvision) (1.22.4)\n",
            "Requirement already satisfied: pandas>=1 in /usr/local/lib/python3.10/dist-packages (from torchxrayvision) (1.5.3)\n",
            "Requirement already satisfied: requests>=1 in /usr/local/lib/python3.10/dist-packages (from torchxrayvision) (2.27.1)\n",
            "Requirement already satisfied: pillow>=5.3.0 in /usr/local/lib/python3.10/dist-packages (from torchxrayvision) (8.4.0)\n",
            "Requirement already satisfied: imageio in /usr/local/lib/python3.10/dist-packages (from torchxrayvision) (2.25.1)\n",
            "Requirement already satisfied: python-dateutil>=2.8.1 in /usr/local/lib/python3.10/dist-packages (from pandas>=1->torchxrayvision) (2.8.2)\n",
            "Requirement already satisfied: pytz>=2020.1 in /usr/local/lib/python3.10/dist-packages (from pandas>=1->torchxrayvision) (2022.7.1)\n",
            "Requirement already satisfied: urllib3<1.27,>=1.21.1 in /usr/local/lib/python3.10/dist-packages (from requests>=1->torchxrayvision) (1.26.15)\n",
            "Requirement already satisfied: certifi>=2017.4.17 in /usr/local/lib/python3.10/dist-packages (from requests>=1->torchxrayvision) (2022.12.7)\n",
            "Requirement already satisfied: charset-normalizer~=2.0.0 in /usr/local/lib/python3.10/dist-packages (from requests>=1->torchxrayvision) (2.0.12)\n",
            "Requirement already satisfied: idna<4,>=2.5 in /usr/local/lib/python3.10/dist-packages (from requests>=1->torchxrayvision) (3.4)\n",
            "Requirement already satisfied: scipy>=1.4.1 in /usr/local/lib/python3.10/dist-packages (from scikit-image>=0.16->torchxrayvision) (1.10.1)\n",
            "Requirement already satisfied: networkx>=2.2 in /usr/local/lib/python3.10/dist-packages (from scikit-image>=0.16->torchxrayvision) (3.1)\n",
            "Requirement already satisfied: tifffile>=2019.7.26 in /usr/local/lib/python3.10/dist-packages (from scikit-image>=0.16->torchxrayvision) (2023.4.12)\n",
            "Requirement already satisfied: PyWavelets>=1.1.1 in /usr/local/lib/python3.10/dist-packages (from scikit-image>=0.16->torchxrayvision) (1.4.1)\n",
            "Requirement already satisfied: packaging>=20.0 in /usr/local/lib/python3.10/dist-packages (from scikit-image>=0.16->torchxrayvision) (23.1)\n",
            "Requirement already satisfied: filelock in /usr/local/lib/python3.10/dist-packages (from torch>=1->torchxrayvision) (3.12.0)\n",
            "Requirement already satisfied: typing-extensions in /usr/local/lib/python3.10/dist-packages (from torch>=1->torchxrayvision) (4.5.0)\n",
            "Requirement already satisfied: sympy in /usr/local/lib/python3.10/dist-packages (from torch>=1->torchxrayvision) (1.11.1)\n",
            "Requirement already satisfied: jinja2 in /usr/local/lib/python3.10/dist-packages (from torch>=1->torchxrayvision) (3.1.2)\n",
            "Requirement already satisfied: triton==2.0.0 in /usr/local/lib/python3.10/dist-packages (from torch>=1->torchxrayvision) (2.0.0)\n",
            "Requirement already satisfied: cmake in /usr/local/lib/python3.10/dist-packages (from triton==2.0.0->torch>=1->torchxrayvision) (3.25.2)\n",
            "Requirement already satisfied: lit in /usr/local/lib/python3.10/dist-packages (from triton==2.0.0->torch>=1->torchxrayvision) (16.0.3)\n",
            "Requirement already satisfied: six>=1.5 in /usr/local/lib/python3.10/dist-packages (from python-dateutil>=2.8.1->pandas>=1->torchxrayvision) (1.16.0)\n",
            "Requirement already satisfied: MarkupSafe>=2.0 in /usr/local/lib/python3.10/dist-packages (from jinja2->torch>=1->torchxrayvision) (2.1.2)\n",
            "Requirement already satisfied: mpmath>=0.19 in /usr/local/lib/python3.10/dist-packages (from sympy->torch>=1->torchxrayvision) (1.3.0)\n",
            "Installing collected packages: torchxrayvision\n",
            "Successfully installed torchxrayvision-1.1.0\n",
            "Drive already mounted at /content/gdrive; to attempt to forcibly remount, call drive.mount(\"/content/gdrive\", force_remount=True).\n"
          ]
        }
      ]
    },
    {
      "cell_type": "code",
      "source": [
        "import skimage\n",
        "import torch\n",
        "import torch.nn.functional as F\n",
        "import torchvision\n",
        "import torchvision.transforms\n",
        "\n",
        "import torchxrayvision as xrv\n",
        "from tqdm.notebook import tqdm\n",
        "from glob import glob\n",
        "from time import time\n",
        "import numpy as np\n",
        "\n",
        "# from transformers import ViTImageProcessor, ViTModel\n",
        "from PIL import Image\n",
        "from tqdm.notebook import tqdm\n",
        "\n",
        "import pandas as pd"
      ],
      "metadata": {
        "id": "14hRwCltj9NK"
      },
      "execution_count": 3,
      "outputs": []
    },
    {
      "cell_type": "code",
      "source": [
        "feature_extractor = \"densenet121-res224-chex\"\n",
        "\n",
        "import json\n",
        "with open(f'features_{feature_extractor}.json') as f:\n",
        "  data = json.load(f)\n",
        "\n",
        "images = list(data.keys())\n",
        "features = torch.Tensor(list(data.values()))\n"
      ],
      "metadata": {
        "id": "wZY_TCtmlfY1"
      },
      "execution_count": 4,
      "outputs": []
    },
    {
      "cell_type": "code",
      "source": [
        "features.shape"
      ],
      "metadata": {
        "colab": {
          "base_uri": "https://localhost:8080/"
        },
        "id": "GeNh-KyRpgFe",
        "outputId": "3f457cf7-ef5f-4fb7-f6e7-225200c0cd69"
      },
      "execution_count": 5,
      "outputs": [
        {
          "output_type": "execute_result",
          "data": {
            "text/plain": [
              "torch.Size([2018, 1024])"
            ]
          },
          "metadata": {},
          "execution_count": 5
        }
      ]
    },
    {
      "cell_type": "markdown",
      "source": [
        "Train the model"
      ],
      "metadata": {
        "id": "ih1QC_FSpR1F"
      }
    },
    {
      "cell_type": "code",
      "source": [
        "from sklearn.metrics import classification_report\n",
        "from sklearn.linear_model import LogisticRegression\n",
        "from sklearn.model_selection import cross_val_score\n",
        "from sklearn.model_selection import RepeatedStratifiedKFold\n",
        "from sklearn.model_selection import train_test_split\n",
        "\n",
        "annotations_file = glob('/content/*image*.csv')[0]\n",
        "\n",
        "DISEASE_NAMES = ['edema', 'consolidation', 'pleural_effusion', 'pneumothorax', 'pneumonia']\n",
        "for disease_name in DISEASE_NAMES:\n",
        "    print(\"Disease:\", disease_name)\n",
        "    df = pd.read_csv(annotations_file)\n",
        "    df = df[~df[f'{disease_name}_progression'].isna()]\n",
        "    image1 = df.previous_dicom_id.to_numpy()\n",
        "    image2 = df.dicom_id.to_numpy()\n",
        "\n",
        "    df[f'{disease_name}_progression'].replace({'worsening': 1, 'stable': 0, 'improving': 2}, inplace=True)\n",
        "    \n",
        "    labels = df[f'{disease_name}_progression'].to_numpy()\n",
        "    \n",
        "    with open(f'features_{feature_extractor}.json') as f:\n",
        "      data = json.load(f)\n",
        "      image_names = [d.split('/')[-1] for d in data.keys()]\n",
        "      in_features = np.array(list(data.values()))\n",
        "    \n",
        "    features1 = np.array([in_features[image_names.index(img.split('/')[-1]+'.jpg')] for img in image1])\n",
        "    features2 = np.array([in_features[image_names.index(img.split('/')[-1]+'.jpg')] for img in image2])\n",
        "    features = np.concatenate([features1, features2], axis=1)\n",
        "    X, X_test, y, y_test = train_test_split(features, labels, test_size=0.2, random_state=123, shuffle=True)\n",
        "\n",
        "    model = LogisticRegression(multi_class='multinomial', solver='lbfgs')\n",
        "    model.fit(X, y)\n",
        "    preds = model.predict(X_test)\n",
        "    print(classification_report(y_test, preds))\n",
        "\n",
        "    ### EXPERIMENT 2:\n",
        "    print(\"=========== EXP2 =============================\")\n",
        "    feat1 = X_test[:, :X_test.shape[1]//2+1]\n",
        "    feat2 = X_test[:, X_test.shape[1]//2+1:]\n",
        "    inv_feat = np.concatenate([feat2, feat1], axis=1)\n",
        "    preds_inv = model.predict(inv_feat)\n",
        "    y_test_inv = y_test.copy()\n",
        "    y_test_inv[y_test==1] = 2\n",
        "    y_test_inv[y_test==2] = 1\n",
        "\n",
        "    # print(list(zip(y_test, y_test_inv)))\n",
        "    # print(list(zip(preds, preds_inv)))\n",
        "    print(\"Number of cases where label == 0:\", sum(y_test==0)) \n",
        "    print(\"Number of cases where label == 1:\", sum(y_test==1)) \n",
        "    print(\"Number of cases where label == 2:\", sum(y_test==2)) \n",
        "    print(\"Number of cases where label == 0 and output was 0:\", sum( (y_test==0) & (preds_inv==0) ))\n",
        "    print(\"Number of cases where pred == 1 and output was 2:\", sum( (preds==1) & (preds_inv==2) ))\n",
        "    print(\"Number of cases where pred == 2 and output was 1:\", sum( (preds==2) & (preds_inv==1) ))\n",
        "    # print(classification_report(y_test_inv, preds_inv))"
      ],
      "metadata": {
        "id": "p1LzcZa4vtB-",
        "colab": {
          "base_uri": "https://localhost:8080/"
        },
        "outputId": "ee7797d4-123e-42b9-caa0-04de159f4b52"
      },
      "execution_count": 87,
      "outputs": [
        {
          "output_type": "stream",
          "name": "stdout",
          "text": [
            "Disease: edema\n",
            "              precision    recall  f1-score   support\n",
            "\n",
            "           0       0.30      0.21      0.25        14\n",
            "           1       0.64      0.82      0.72        22\n",
            "           2       0.38      0.33      0.35        18\n",
            "\n",
            "    accuracy                           0.50        54\n",
            "   macro avg       0.44      0.46      0.44        54\n",
            "weighted avg       0.46      0.50      0.48        54\n",
            "\n",
            "=========== EXP2 =============================\n",
            "Number of cases where label == 0: 14\n",
            "Number of cases where label == 1: 22\n",
            "Number of cases where label == 2: 18\n",
            "Number of cases where label == 0 and output was 0: 0\n",
            "Number of cases where pred == 1 and output was 2: 6\n",
            "Number of cases where pred == 2 and output was 1: 7\n",
            "Disease: consolidation\n",
            "              precision    recall  f1-score   support\n",
            "\n",
            "           0       0.43      0.67      0.53        15\n",
            "           1       0.61      0.61      0.61        18\n",
            "           2       0.00      0.00      0.00         8\n",
            "\n",
            "    accuracy                           0.51        41\n",
            "   macro avg       0.35      0.43      0.38        41\n",
            "weighted avg       0.43      0.51      0.46        41\n",
            "\n",
            "=========== EXP2 =============================\n",
            "Number of cases where label == 0: 15\n",
            "Number of cases where label == 1: 18\n",
            "Number of cases where label == 2: 8\n",
            "Number of cases where label == 0 and output was 0: 0\n",
            "Number of cases where pred == 1 and output was 2: 0\n",
            "Number of cases where pred == 2 and output was 1: 0\n",
            "Disease: pleural_effusion\n",
            "              precision    recall  f1-score   support\n",
            "\n",
            "           0       0.42      0.63      0.51        38\n",
            "           1       0.32      0.25      0.28        28\n",
            "           2       0.25      0.06      0.10        17\n",
            "\n",
            "    accuracy                           0.39        83\n",
            "   macro avg       0.33      0.31      0.29        83\n",
            "weighted avg       0.35      0.39      0.35        83\n",
            "\n",
            "=========== EXP2 =============================\n",
            "Number of cases where label == 0: 38\n",
            "Number of cases where label == 1: 28\n",
            "Number of cases where label == 2: 17\n",
            "Number of cases where label == 0 and output was 0: 35\n",
            "Number of cases where pred == 1 and output was 2: 1\n",
            "Number of cases where pred == 2 and output was 1: 0\n",
            "Disease: pneumothorax\n",
            "              precision    recall  f1-score   support\n",
            "\n",
            "           0       0.48      0.46      0.47        24\n",
            "           1       0.20      0.25      0.22        12\n",
            "           2       0.40      0.29      0.33         7\n",
            "\n",
            "    accuracy                           0.37        43\n",
            "   macro avg       0.36      0.33      0.34        43\n",
            "weighted avg       0.39      0.37      0.38        43\n",
            "\n",
            "=========== EXP2 =============================\n",
            "Number of cases where label == 0: 24\n",
            "Number of cases where label == 1: 12\n",
            "Number of cases where label == 2: 7\n",
            "Number of cases where label == 0 and output was 0: 0\n",
            "Number of cases where pred == 1 and output was 2: 0\n",
            "Number of cases where pred == 2 and output was 1: 5\n",
            "Disease: pneumonia\n",
            "              precision    recall  f1-score   support\n",
            "\n",
            "           0       0.11      0.11      0.11         9\n",
            "           1       0.70      0.76      0.73        34\n",
            "           2       0.00      0.00      0.00         5\n",
            "\n",
            "    accuracy                           0.56        48\n",
            "   macro avg       0.27      0.29      0.28        48\n",
            "weighted avg       0.52      0.56      0.54        48\n",
            "\n",
            "=========== EXP2 =============================\n",
            "Number of cases where label == 0: 9\n",
            "Number of cases where label == 1: 34\n",
            "Number of cases where label == 2: 5\n",
            "Number of cases where label == 0 and output was 0: 0\n",
            "Number of cases where pred == 1 and output was 2: 0\n",
            "Number of cases where pred == 2 and output was 1: 2\n"
          ]
        }
      ]
    },
    {
      "cell_type": "code",
      "source": [
        "(50+51+39+37+56)/5"
      ],
      "metadata": {
        "colab": {
          "base_uri": "https://localhost:8080/"
        },
        "id": "J8xF8Likg7dN",
        "outputId": "3bbd7c1e-5156-48b1-b6e8-57769c06659c"
      },
      "execution_count": 64,
      "outputs": [
        {
          "output_type": "execute_result",
          "data": {
            "text/plain": [
              "46.6"
            ]
          },
          "metadata": {},
          "execution_count": 64
        }
      ]
    },
    {
      "cell_type": "code",
      "source": [],
      "metadata": {
        "id": "8nxLpr_TiJnb"
      },
      "execution_count": null,
      "outputs": []
    }
  ]
}